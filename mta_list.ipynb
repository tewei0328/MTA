{
  "nbformat": 4,
  "nbformat_minor": 0,
  "metadata": {
    "colab": {
      "name": "mta_list.ipynb",
      "provenance": [],
      "authorship_tag": "ABX9TyMrTM3Np102Rs7T5mboY+nU",
      "include_colab_link": true
    },
    "kernelspec": {
      "name": "python3",
      "display_name": "Python 3"
    },
    "language_info": {
      "name": "python"
    }
  },
  "cells": [
    {
      "cell_type": "markdown",
      "metadata": {
        "id": "view-in-github",
        "colab_type": "text"
      },
      "source": [
        "<a href=\"https://colab.research.google.com/github/tewei0328/MTA/blob/main/mta_list.ipynb\" target=\"_parent\"><img src=\"https://colab.research.google.com/assets/colab-badge.svg\" alt=\"Open In Colab\"/></a>"
      ]
    },
    {
      "cell_type": "code",
      "execution_count": 3,
      "metadata": {
        "id": "Bs6BSaZX5XNw"
      },
      "outputs": [],
      "source": [
        "list1=[1,2,3]\n",
        "list2=[4,5,6]"
      ]
    },
    {
      "cell_type": "code",
      "source": [
        "list1"
      ],
      "metadata": {
        "colab": {
          "base_uri": "https://localhost:8080/"
        },
        "id": "_hkDnH-N51Vf",
        "outputId": "062b8c08-dadc-41b5-f2b1-eb0bd89180ea"
      },
      "execution_count": 6,
      "outputs": [
        {
          "output_type": "execute_result",
          "data": {
            "text/plain": [
              "[1, 2, 3]"
            ]
          },
          "metadata": {},
          "execution_count": 6
        }
      ]
    },
    {
      "cell_type": "code",
      "source": [
        ""
      ],
      "metadata": {
        "id": "ME6po9w06tne"
      },
      "execution_count": null,
      "outputs": []
    },
    {
      "cell_type": "markdown",
      "source": [
        "https://sites.google.com/view/ctw-course/%E7%A8%8B%E5%BC%8F%E8%A8%AD%E8%A8%88"
      ],
      "metadata": {
        "id": "r6esm_he6Tpu"
      }
    },
    {
      "cell_type": "code",
      "source": [
        "list3=list1+list2"
      ],
      "metadata": {
        "id": "Qw96cevc5gHW"
      },
      "execution_count": 8,
      "outputs": []
    },
    {
      "cell_type": "code",
      "source": [
        "list3*2"
      ],
      "metadata": {
        "colab": {
          "base_uri": "https://localhost:8080/"
        },
        "id": "GXDBE74V50UH",
        "outputId": "cc0bc63a-54e7-4e03-b40f-0d1a684d5955"
      },
      "execution_count": 9,
      "outputs": [
        {
          "output_type": "execute_result",
          "data": {
            "text/plain": [
              "[1, 2, 3, 4, 5, 6, 1, 2, 3, 4, 5, 6]"
            ]
          },
          "metadata": {},
          "execution_count": 9
        }
      ]
    }
  ]
}