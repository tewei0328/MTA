{
  "nbformat": 4,
  "nbformat_minor": 0,
  "metadata": {
    "colab": {
      "name": "mta_list_index.ipynb",
      "provenance": [],
      "authorship_tag": "ABX9TyPVD8jTtaKFGaimb63w6rmZ",
      "include_colab_link": true
    },
    "kernelspec": {
      "name": "python3",
      "display_name": "Python 3"
    },
    "language_info": {
      "name": "python"
    }
  },
  "cells": [
    {
      "cell_type": "markdown",
      "metadata": {
        "id": "view-in-github",
        "colab_type": "text"
      },
      "source": [
        "<a href=\"https://colab.research.google.com/github/tewei0328/MTA/blob/main/mta_list_index.ipynb\" target=\"_parent\"><img src=\"https://colab.research.google.com/assets/colab-badge.svg\" alt=\"Open In Colab\"/></a>"
      ]
    },
    {
      "cell_type": "code",
      "execution_count": 1,
      "metadata": {
        "id": "jlT6D_khCxhi"
      },
      "outputs": [],
      "source": [
        "alph=\"abcdefghijklmnopqrstuvwxyz\""
      ]
    },
    {
      "cell_type": "markdown",
      "source": [
        "# 1. 由3到14"
      ],
      "metadata": {
        "id": "ElgprKDmFm9h"
      }
    },
    {
      "cell_type": "code",
      "source": [
        "alph[3:15]"
      ],
      "metadata": {
        "colab": {
          "base_uri": "https://localhost:8080/",
          "height": 36
        },
        "id": "3qKHbariC_MR",
        "outputId": "b56cd60f-959e-4791-9c6c-8eb43f806630"
      },
      "execution_count": 2,
      "outputs": [
        {
          "output_type": "execute_result",
          "data": {
            "text/plain": [
              "'defghijklmno'"
            ],
            "application/vnd.google.colaboratory.intrinsic+json": {
              "type": "string"
            }
          },
          "metadata": {},
          "execution_count": 2
        }
      ]
    },
    {
      "cell_type": "code",
      "source": [
        "alph[15:3]"
      ],
      "metadata": {
        "colab": {
          "base_uri": "https://localhost:8080/",
          "height": 36
        },
        "id": "zlk1tf3DGawu",
        "outputId": "1681551a-6aaa-485f-ff94-c23526c26622"
      },
      "execution_count": 7,
      "outputs": [
        {
          "output_type": "execute_result",
          "data": {
            "text/plain": [
              "''"
            ],
            "application/vnd.google.colaboratory.intrinsic+json": {
              "type": "string"
            }
          },
          "metadata": {},
          "execution_count": 7
        }
      ]
    },
    {
      "cell_type": "markdown",
      "source": [
        "# 由15到4"
      ],
      "metadata": {
        "id": "Al3zSny9GFET"
      }
    },
    {
      "cell_type": "code",
      "source": [
        "alph[15:3:-1]"
      ],
      "metadata": {
        "colab": {
          "base_uri": "https://localhost:8080/",
          "height": 36
        },
        "id": "jro38itEC_O4",
        "outputId": "80ccab79-f3b0-415a-c107-a1adaa9cfe1f"
      },
      "execution_count": 5,
      "outputs": [
        {
          "output_type": "execute_result",
          "data": {
            "text/plain": [
              "'ponmlkjihgfe'"
            ],
            "application/vnd.google.colaboratory.intrinsic+json": {
              "type": "string"
            }
          },
          "metadata": {},
          "execution_count": 5
        }
      ]
    },
    {
      "cell_type": "markdown",
      "source": [
        "# 2. 由3到14,每次跳過2個"
      ],
      "metadata": {
        "id": "QTmXDQDqHK75"
      }
    },
    {
      "cell_type": "code",
      "source": [
        "alph[3:15:3]"
      ],
      "metadata": {
        "colab": {
          "base_uri": "https://localhost:8080/",
          "height": 36
        },
        "id": "T9I8bI-KC_bR",
        "outputId": "9448fdb1-9f89-4409-c77f-122722ffbc61"
      },
      "execution_count": 8,
      "outputs": [
        {
          "output_type": "execute_result",
          "data": {
            "text/plain": [
              "'dgjm'"
            ],
            "application/vnd.google.colaboratory.intrinsic+json": {
              "type": "string"
            }
          },
          "metadata": {},
          "execution_count": 8
        }
      ]
    },
    {
      "cell_type": "markdown",
      "source": [
        "# 3. 由15到4,每次跳過2個"
      ],
      "metadata": {
        "id": "NxX07xvZH_G8"
      }
    },
    {
      "cell_type": "code",
      "source": [
        "alph[15:3:-3]"
      ],
      "metadata": {
        "colab": {
          "base_uri": "https://localhost:8080/",
          "height": 36
        },
        "id": "Ljngp5qPIF1l",
        "outputId": "b5c31dc7-76f7-499a-93b9-7db9877bcb5b"
      },
      "execution_count": 9,
      "outputs": [
        {
          "output_type": "execute_result",
          "data": {
            "text/plain": [
              "'pmjg'"
            ],
            "application/vnd.google.colaboratory.intrinsic+json": {
              "type": "string"
            }
          },
          "metadata": {},
          "execution_count": 9
        }
      ]
    },
    {
      "cell_type": "code",
      "source": [
        "alph,alph[15],alph[4]"
      ],
      "metadata": {
        "colab": {
          "base_uri": "https://localhost:8080/"
        },
        "id": "ci3mOR8RIN40",
        "outputId": "67fca6ae-f164-4b7d-8cd2-c7244321fed4"
      },
      "execution_count": 12,
      "outputs": [
        {
          "output_type": "execute_result",
          "data": {
            "text/plain": [
              "('abcdefghijklmnopqrstuvwxyz', 'p', 'e')"
            ]
          },
          "metadata": {},
          "execution_count": 12
        }
      ]
    },
    {
      "cell_type": "code",
      "source": [
        ""
      ],
      "metadata": {
        "id": "pRiluNfQIQpe"
      },
      "execution_count": null,
      "outputs": []
    }
  ]
}