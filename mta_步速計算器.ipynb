{
  "nbformat": 4,
  "nbformat_minor": 0,
  "metadata": {
    "colab": {
      "name": "mta_步速計算器.ipynb",
      "provenance": [],
      "authorship_tag": "ABX9TyOvWnHg4D7KoTg4shMlqm1v",
      "include_colab_link": true
    },
    "kernelspec": {
      "name": "python3",
      "display_name": "Python 3"
    },
    "language_info": {
      "name": "python"
    }
  },
  "cells": [
    {
      "cell_type": "markdown",
      "metadata": {
        "id": "view-in-github",
        "colab_type": "text"
      },
      "source": [
        "<a href=\"https://colab.research.google.com/github/tewei0328/MTA/blob/main/mta_%E6%AD%A5%E9%80%9F%E8%A8%88%E7%AE%97%E5%99%A8.ipynb\" target=\"_parent\"><img src=\"https://colab.research.google.com/assets/colab-badge.svg\" alt=\"Open In Colab\"/></a>"
      ]
    },
    {
      "cell_type": "code",
      "execution_count": 7,
      "metadata": {
        "colab": {
          "base_uri": "https://localhost:8080/"
        },
        "id": "phIaESjx70tI",
        "outputId": "ea292f95-d724-4919-e3a4-7dd02aaa8439"
      },
      "outputs": [
        {
          "name": "stdout",
          "output_type": "stream",
          "text": [
            "請輸入以公尺為單位的行駛距離1000\n"
          ]
        }
      ],
      "source": [
        "distance = float(input(\"請輸入以公尺為單位的行駛距離\"))"
      ]
    },
    {
      "cell_type": "code",
      "source": [
        "distance"
      ],
      "metadata": {
        "colab": {
          "base_uri": "https://localhost:8080/"
        },
        "id": "J3PagLHC8KKM",
        "outputId": "59273955-7331-479c-892a-3ea1cf9394c7"
      },
      "execution_count": 4,
      "outputs": [
        {
          "output_type": "execute_result",
          "data": {
            "text/plain": [
              "100.0"
            ]
          },
          "metadata": {},
          "execution_count": 4
        }
      ]
    },
    {
      "cell_type": "code",
      "source": [
        "distance_kms = distance / 1000 # 轉換為公里\n",
        "time_minute = int(input(\"請輸入經過分鐘\"))\n",
        "time_sec = int(input(\"請輸入經過秒數\"))"
      ],
      "metadata": {
        "colab": {
          "base_uri": "https://localhost:8080/"
        },
        "id": "ooa1c1hC9GUk",
        "outputId": "abee4cc8-c902-471c-8961-8c4ededafd0c"
      },
      "execution_count": 8,
      "outputs": [
        {
          "name": "stdout",
          "output_type": "stream",
          "text": [
            "請輸入經過分鐘20\n",
            "請輸入經過秒數20\n"
          ]
        }
      ]
    },
    {
      "cell_type": "code",
      "source": [
        "time = time_minute*60 + time_sec\n",
        "pace = time / distance_kms\n",
        "print(\"步速是: \" , str((pace//60)) + \":\" + str((pace%60)))"
      ],
      "metadata": {
        "colab": {
          "base_uri": "https://localhost:8080/"
        },
        "id": "2NjYFisi9GXU",
        "outputId": "a30b3892-0507-48ce-ec8c-fca183ee8455"
      },
      "execution_count": 9,
      "outputs": [
        {
          "output_type": "stream",
          "name": "stdout",
          "text": [
            "步速是:  20.0:20.0\n"
          ]
        }
      ]
    },
    {
      "cell_type": "code",
      "source": [
        "time"
      ],
      "metadata": {
        "colab": {
          "base_uri": "https://localhost:8080/"
        },
        "id": "-0s0OXtx9Ga1",
        "outputId": "4ae2a099-cf9b-43f4-ad20-1c07d264c4fe"
      },
      "execution_count": 10,
      "outputs": [
        {
          "output_type": "execute_result",
          "data": {
            "text/plain": [
              "1220"
            ]
          },
          "metadata": {},
          "execution_count": 10
        }
      ]
    },
    {
      "cell_type": "code",
      "source": [
        ""
      ],
      "metadata": {
        "id": "Pjl6B6JJ9GdU"
      },
      "execution_count": null,
      "outputs": []
    },
    {
      "cell_type": "code",
      "source": [
        ""
      ],
      "metadata": {
        "id": "rfh3ZUhW9GgL"
      },
      "execution_count": null,
      "outputs": []
    }
  ]
}