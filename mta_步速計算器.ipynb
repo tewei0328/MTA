{
  "nbformat": 4,
  "nbformat_minor": 0,
  "metadata": {
    "colab": {
      "name": "mta_步速計算器.ipynb",
      "provenance": [],
      "authorship_tag": "ABX9TyN2Lb0dLpoN2DevmnjecKYV",
      "include_colab_link": true
    },
    "kernelspec": {
      "name": "python3",
      "display_name": "Python 3"
    },
    "language_info": {
      "name": "python"
    }
  },
  "cells": [
    {
      "cell_type": "markdown",
      "metadata": {
        "id": "view-in-github",
        "colab_type": "text"
      },
      "source": [
        "<a href=\"https://colab.research.google.com/github/tewei0328/MTA/blob/main/mta_%E6%AD%A5%E9%80%9F%E8%A8%88%E7%AE%97%E5%99%A8.ipynb\" target=\"_parent\"><img src=\"https://colab.research.google.com/assets/colab-badge.svg\" alt=\"Open In Colab\"/></a>"
      ]
    },
    {
      "cell_type": "code",
      "execution_count": 11,
      "metadata": {
        "colab": {
          "base_uri": "https://localhost:8080/"
        },
        "id": "phIaESjx70tI",
        "outputId": "022617a4-3319-4b8c-bb68-b46896627a85"
      },
      "outputs": [
        {
          "name": "stdout",
          "output_type": "stream",
          "text": [
            "請輸入以公尺為單位的行駛距離1000\n"
          ]
        }
      ],
      "source": [
        "distance = float(input(\"請輸入以公尺為單位的行駛距離\"))"
      ]
    },
    {
      "cell_type": "code",
      "source": [
        "distance"
      ],
      "metadata": {
        "colab": {
          "base_uri": "https://localhost:8080/"
        },
        "id": "J3PagLHC8KKM",
        "outputId": "552dfa0b-5a54-4c63-b5f9-38e752983ed0"
      },
      "execution_count": 12,
      "outputs": [
        {
          "output_type": "execute_result",
          "data": {
            "text/plain": [
              "1000.0"
            ]
          },
          "metadata": {},
          "execution_count": 12
        }
      ]
    },
    {
      "cell_type": "code",
      "source": [
        "distance_kms = distance / 1000 # 轉換為公里\n",
        "time_minute = int(input(\"請輸入經過分鐘\"))\n",
        "time_sec = int(input(\"請輸入經過秒數\"))"
      ],
      "metadata": {
        "colab": {
          "base_uri": "https://localhost:8080/"
        },
        "id": "ooa1c1hC9GUk",
        "outputId": "e1899894-f23a-4d11-c91e-091aa555d864"
      },
      "execution_count": 13,
      "outputs": [
        {
          "name": "stdout",
          "output_type": "stream",
          "text": [
            "請輸入經過分鐘10\n",
            "請輸入經過秒數10\n"
          ]
        }
      ]
    },
    {
      "cell_type": "code",
      "source": [
        "distance_kms"
      ],
      "metadata": {
        "colab": {
          "base_uri": "https://localhost:8080/"
        },
        "id": "1kPQUEnb-cEE",
        "outputId": "8a3a8beb-6990-4205-c000-48dc78cf47a9"
      },
      "execution_count": 14,
      "outputs": [
        {
          "output_type": "execute_result",
          "data": {
            "text/plain": [
              "1.0"
            ]
          },
          "metadata": {},
          "execution_count": 14
        }
      ]
    },
    {
      "cell_type": "code",
      "source": [
        "time_minute"
      ],
      "metadata": {
        "colab": {
          "base_uri": "https://localhost:8080/"
        },
        "id": "GadjYzg4-jCb",
        "outputId": "ee48cd1c-ce61-4971-e5f0-db32173a1c00"
      },
      "execution_count": 15,
      "outputs": [
        {
          "output_type": "execute_result",
          "data": {
            "text/plain": [
              "10"
            ]
          },
          "metadata": {},
          "execution_count": 15
        }
      ]
    },
    {
      "cell_type": "code",
      "source": [
        "time = time_minute*60 + time_sec\n",
        "pace = time / distance_kms\n",
        "print(\"步速是: \" , str((pace//60)) + \":\" + str((pace%60)))"
      ],
      "metadata": {
        "colab": {
          "base_uri": "https://localhost:8080/"
        },
        "id": "2NjYFisi9GXU",
        "outputId": "ae3fc368-a4ac-4790-e216-5c6ffba8d2f6"
      },
      "execution_count": 16,
      "outputs": [
        {
          "output_type": "stream",
          "name": "stdout",
          "text": [
            "步速是:  10.0:10.0\n"
          ]
        }
      ]
    },
    {
      "cell_type": "code",
      "source": [
        "time"
      ],
      "metadata": {
        "colab": {
          "base_uri": "https://localhost:8080/"
        },
        "id": "-0s0OXtx9Ga1",
        "outputId": "2e65d308-0457-47b2-8e90-f7fd6c97a70f"
      },
      "execution_count": 17,
      "outputs": [
        {
          "output_type": "execute_result",
          "data": {
            "text/plain": [
              "610"
            ]
          },
          "metadata": {},
          "execution_count": 17
        }
      ]
    },
    {
      "cell_type": "code",
      "source": [
        ""
      ],
      "metadata": {
        "id": "Pjl6B6JJ9GdU"
      },
      "execution_count": null,
      "outputs": []
    },
    {
      "cell_type": "code",
      "source": [
        ""
      ],
      "metadata": {
        "id": "rfh3ZUhW9GgL"
      },
      "execution_count": null,
      "outputs": []
    }
  ]
}